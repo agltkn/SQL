{
 "cells": [
  {
   "cell_type": "code",
   "execution_count": 65,
   "id": "663822af",
   "metadata": {},
   "outputs": [
    {
     "name": "stdout",
     "output_type": "stream",
     "text": [
      "Requirement already satisfied: pyodbc in c:\\program files\\python39\\lib\\site-packages (4.0.32)\n"
     ]
    }
   ],
   "source": [
    "!pip install pyodbc"
   ]
  },
  {
   "cell_type": "code",
   "execution_count": 66,
   "id": "b7b35f39",
   "metadata": {},
   "outputs": [],
   "source": [
    "import pyodbc"
   ]
  },
  {
   "cell_type": "code",
   "execution_count": 67,
   "id": "f350a984",
   "metadata": {},
   "outputs": [],
   "source": [
    "def create_server_connection(driver, server, database, user, password):\n",
    "    conn = None\n",
    "    try:\n",
    "        conn = pyodbc.connect(DRIVER = driver, SERVER= server, DATABASE = database, UID= user, PWD= password)\n",
    "        print(\"Successfull\")\n",
    "    except Error as err:\n",
    "        print(f\"Error:'{err}'\")\n",
    "    return conn"
   ]
  },
  {
   "cell_type": "code",
   "execution_count": 68,
   "id": "eec3e522",
   "metadata": {},
   "outputs": [
    {
     "data": {
      "text/plain": [
       "['SQL Server',\n",
       " 'SQL Server Native Client 11.0',\n",
       " 'SQL Server Native Client RDA 11.0',\n",
       " 'ODBC Driver 17 for SQL Server']"
      ]
     },
     "execution_count": 68,
     "metadata": {},
     "output_type": "execute_result"
    }
   ],
   "source": [
    "pyodbc.drivers()"
   ]
  },
  {
   "cell_type": "code",
   "execution_count": 69,
   "id": "feaf1347",
   "metadata": {},
   "outputs": [],
   "source": [
    "driver = '{ODBC Driver 17 for SQL Server}'"
   ]
  },
  {
   "cell_type": "code",
   "execution_count": 70,
   "id": "b2e5e3f0",
   "metadata": {},
   "outputs": [],
   "source": [
    "#WINDOWS AUTHENTICATION"
   ]
  },
  {
   "cell_type": "code",
   "execution_count": 71,
   "id": "5dad5ef1",
   "metadata": {},
   "outputs": [],
   "source": [
    "conn_string = \"driver={ODBC Driver 17 for SQL Server}; server=Ahmet; database=master; TRUSTED_CONNECTION=yes;\""
   ]
  },
  {
   "cell_type": "code",
   "execution_count": 72,
   "id": "84ea4ad5",
   "metadata": {},
   "outputs": [],
   "source": [
    "conn = pyodbc.connect(conn_string);"
   ]
  },
  {
   "cell_type": "code",
   "execution_count": 73,
   "id": "8f36ed01",
   "metadata": {},
   "outputs": [],
   "source": [
    "crs = conn.cursor()"
   ]
  },
  {
   "cell_type": "code",
   "execution_count": 74,
   "id": "eb16b49f",
   "metadata": {},
   "outputs": [],
   "source": [
    "conn.autocommit = True"
   ]
  },
  {
   "cell_type": "code",
   "execution_count": 77,
   "id": "3102a6e4",
   "metadata": {},
   "outputs": [],
   "source": [
    "def create_database(conn, create_database_query): #parametreler: connection nesnesi ve query nesnesi\n",
    "    crs = conn.cursor() #bir cursor nesnesi oluşturuyoruz. bunu query sonucundaki değerleri yakalamak için kullanacağız.\n",
    "    try:\n",
    "        crs.execute(create_database_query) #query'yi çalıştır sonucu yakala. queryleri excecute ile çalıştırıyoruz\n",
    "        print(\"Database is Created Successful\")\n",
    "    except Error as err:\n",
    "            print(f\"Error:'{err}'\")"
   ]
  },
  {
   "cell_type": "code",
   "execution_count": 78,
   "id": "351c13c7",
   "metadata": {},
   "outputs": [],
   "source": [
    "create_database_query = \"CREATE DATABASE TestB\""
   ]
  },
  {
   "cell_type": "code",
   "execution_count": 79,
   "id": "2505c6a6",
   "metadata": {},
   "outputs": [
    {
     "name": "stdout",
     "output_type": "stream",
     "text": [
      "Database is Created Successful\n"
     ]
    }
   ],
   "source": [
    "create_database(conn,create_database_query)"
   ]
  },
  {
   "cell_type": "code",
   "execution_count": 80,
   "id": "08a143cd",
   "metadata": {},
   "outputs": [],
   "source": [
    "query = \"USE TestB\""
   ]
  },
  {
   "cell_type": "code",
   "execution_count": 81,
   "id": "cc264981",
   "metadata": {},
   "outputs": [
    {
     "data": {
      "text/plain": [
       "<pyodbc.Cursor at 0x2b2761dbeb0>"
      ]
     },
     "execution_count": 81,
     "metadata": {},
     "output_type": "execute_result"
    }
   ],
   "source": [
    "crs.execute(query)"
   ]
  },
  {
   "cell_type": "code",
   "execution_count": 82,
   "id": "15e8b687",
   "metadata": {},
   "outputs": [],
   "source": [
    "def execute_query(conn, query):\n",
    "    crs = conn.cursor()\n",
    "    try:\n",
    "        crs.execute(query)\n",
    "        conn.commit()\n",
    "        print(\"Query Successful!\")\n",
    "    except Error as err:\n",
    "        print(f\"Error:'{err}'\")"
   ]
  },
  {
   "cell_type": "code",
   "execution_count": 83,
   "id": "5665c27b",
   "metadata": {},
   "outputs": [
    {
     "name": "stdout",
     "output_type": "stream",
     "text": [
      "Query Successful!\n"
     ]
    }
   ],
   "source": [
    "execute_query(conn, query)"
   ]
  },
  {
   "cell_type": "code",
   "execution_count": 84,
   "id": "caa4cc6f",
   "metadata": {},
   "outputs": [],
   "source": [
    "query = 'CREATE TABLE TestTable (\\\n",
    "           ID INT IDENTITY (1,1) NOT NULL, \\\n",
    "           FirstName VARCHAR(255) NOT NULL,\\\n",
    "           LastName VARCHAR(255) NOT NULL,\\\n",
    "           PRIMARY KEY(ID))'"
   ]
  },
  {
   "cell_type": "code",
   "execution_count": 85,
   "id": "ab2940b8",
   "metadata": {},
   "outputs": [
    {
     "name": "stdout",
     "output_type": "stream",
     "text": [
      "Query Successful!\n"
     ]
    }
   ],
   "source": [
    "execute_query(conn, query)"
   ]
  },
  {
   "cell_type": "code",
   "execution_count": 86,
   "id": "08ebf362",
   "metadata": {},
   "outputs": [],
   "source": [
    "#INSERT"
   ]
  },
  {
   "cell_type": "code",
   "execution_count": 87,
   "id": "906ab12c",
   "metadata": {},
   "outputs": [
    {
     "data": {
      "text/plain": [
       "<pyodbc.Cursor at 0x2b2761dbeb0>"
      ]
     },
     "execution_count": 87,
     "metadata": {},
     "output_type": "execute_result"
    }
   ],
   "source": [
    "crs.execute(\"INSERT TestTable (FirstNAme, LastName) VALUES ('Ahmet','Gultekin')\")"
   ]
  },
  {
   "cell_type": "code",
   "execution_count": 88,
   "id": "5e62f104",
   "metadata": {},
   "outputs": [
    {
     "data": {
      "text/plain": [
       "<pyodbc.Cursor at 0x2b2761dbeb0>"
      ]
     },
     "execution_count": 88,
     "metadata": {},
     "output_type": "execute_result"
    }
   ],
   "source": [
    "crs.execute(\"INSERT TestTable (FirstNAme, LastName) VALUES ('Seda','Gultekin')\")"
   ]
  },
  {
   "cell_type": "code",
   "execution_count": 89,
   "id": "393cf9ec",
   "metadata": {},
   "outputs": [
    {
     "data": {
      "text/plain": [
       "<pyodbc.Cursor at 0x2b2761dbeb0>"
      ]
     },
     "execution_count": 89,
     "metadata": {},
     "output_type": "execute_result"
    }
   ],
   "source": [
    "crs.execute(\"INSERT TestTable (FirstName, LastName) VALUES (?,?)\",'Bruce', 'Lee')"
   ]
  },
  {
   "cell_type": "code",
   "execution_count": 90,
   "id": "a1738912",
   "metadata": {},
   "outputs": [
    {
     "data": {
      "text/plain": [
       "<pyodbc.Cursor at 0x2b2761dbeb0>"
      ]
     },
     "execution_count": 90,
     "metadata": {},
     "output_type": "execute_result"
    }
   ],
   "source": [
    "crs.execute(\"INSERT TestTable (FirstName, LastName) VALUES (?,?)\",'Tom', 'Cat')\n",
    "crs.execute(\"INSERT TestTable (FirstName, LastName) VALUES (?,?)\",'Jerry', 'Mouse')\n",
    "crs.execute(\"INSERT TestTable (FirstName, LastName) VALUES (?,?)\",'Owen', 'William')\n",
    "crs.execute(\"INSERT TestTable (FirstName, LastName) VALUES (?,?)\",'Stefan', 'Müller')"
   ]
  },
  {
   "cell_type": "code",
   "execution_count": 91,
   "id": "96687404",
   "metadata": {},
   "outputs": [],
   "source": [
    "# Cursor Function"
   ]
  },
  {
   "cell_type": "code",
   "execution_count": 92,
   "id": "f7b612ab",
   "metadata": {},
   "outputs": [
    {
     "data": {
      "text/plain": [
       "<pyodbc.Cursor at 0x2b2761dbeb0>"
      ]
     },
     "execution_count": 92,
     "metadata": {},
     "output_type": "execute_result"
    }
   ],
   "source": [
    "crs.execute(\"DELETE FROM TestTable WHERE FirstName = 'Jerry'\")"
   ]
  },
  {
   "cell_type": "code",
   "execution_count": 93,
   "id": "9062bf6d",
   "metadata": {},
   "outputs": [
    {
     "data": {
      "text/plain": [
       "1"
      ]
     },
     "execution_count": 93,
     "metadata": {},
     "output_type": "execute_result"
    }
   ],
   "source": [
    "crs.rowcount"
   ]
  },
  {
   "cell_type": "code",
   "execution_count": 94,
   "id": "22cf68d3",
   "metadata": {},
   "outputs": [],
   "source": [
    "#Fetchone"
   ]
  },
  {
   "cell_type": "code",
   "execution_count": 95,
   "id": "3fbd1505",
   "metadata": {},
   "outputs": [
    {
     "data": {
      "text/plain": [
       "<pyodbc.Cursor at 0x2b2761dbeb0>"
      ]
     },
     "execution_count": 95,
     "metadata": {},
     "output_type": "execute_result"
    }
   ],
   "source": [
    "crs.execute('SELECT FirstName,LastName FROM TestTable')"
   ]
  },
  {
   "cell_type": "code",
   "execution_count": 96,
   "id": "71b11981",
   "metadata": {},
   "outputs": [],
   "source": [
    "row = crs.fetchone() #tablodaki ilk kaydı getirir"
   ]
  },
  {
   "cell_type": "code",
   "execution_count": 97,
   "id": "e524c03a",
   "metadata": {},
   "outputs": [
    {
     "data": {
      "text/plain": [
       "('Ahmet', 'Gultekin')"
      ]
     },
     "execution_count": 97,
     "metadata": {},
     "output_type": "execute_result"
    }
   ],
   "source": [
    "row"
   ]
  },
  {
   "cell_type": "code",
   "execution_count": 98,
   "id": "d54b7d34",
   "metadata": {},
   "outputs": [],
   "source": [
    "#Fetchmany"
   ]
  },
  {
   "cell_type": "code",
   "execution_count": 99,
   "id": "92c29831",
   "metadata": {},
   "outputs": [
    {
     "data": {
      "text/plain": [
       "<pyodbc.Cursor at 0x2b2761dbeb0>"
      ]
     },
     "execution_count": 99,
     "metadata": {},
     "output_type": "execute_result"
    }
   ],
   "source": [
    "crs.execute('SELECT FirstName, LastName FROM TestTable')"
   ]
  },
  {
   "cell_type": "code",
   "execution_count": 100,
   "id": "87bb609b",
   "metadata": {},
   "outputs": [],
   "source": [
    "rows = crs.fetchmany(3)"
   ]
  },
  {
   "cell_type": "code",
   "execution_count": 101,
   "id": "d77efda8",
   "metadata": {},
   "outputs": [
    {
     "data": {
      "text/plain": [
       "[('Ahmet', 'Gultekin'), ('Seda', 'Gultekin'), ('Bruce', 'Lee')]"
      ]
     },
     "execution_count": 101,
     "metadata": {},
     "output_type": "execute_result"
    }
   ],
   "source": [
    "rows"
   ]
  },
  {
   "cell_type": "code",
   "execution_count": 102,
   "id": "4ed05080",
   "metadata": {},
   "outputs": [],
   "source": [
    "#Fetchall"
   ]
  },
  {
   "cell_type": "code",
   "execution_count": 103,
   "id": "7387523a",
   "metadata": {},
   "outputs": [
    {
     "data": {
      "text/plain": [
       "<pyodbc.Cursor at 0x2b2761dbeb0>"
      ]
     },
     "execution_count": 103,
     "metadata": {},
     "output_type": "execute_result"
    }
   ],
   "source": [
    "crs.execute('SELECT FirstName, LastName FROM TestTable')"
   ]
  },
  {
   "cell_type": "code",
   "execution_count": 104,
   "id": "0cdee811",
   "metadata": {},
   "outputs": [],
   "source": [
    "rows = crs.fetchall()"
   ]
  },
  {
   "cell_type": "code",
   "execution_count": 105,
   "id": "7307e9aa",
   "metadata": {},
   "outputs": [
    {
     "data": {
      "text/plain": [
       "[('Ahmet', 'Gultekin'),\n",
       " ('Seda', 'Gultekin'),\n",
       " ('Bruce', 'Lee'),\n",
       " ('Tom', 'Cat'),\n",
       " ('Owen', 'William'),\n",
       " ('Stefan', 'Müller')]"
      ]
     },
     "execution_count": 105,
     "metadata": {},
     "output_type": "execute_result"
    }
   ],
   "source": [
    "rows"
   ]
  },
  {
   "cell_type": "code",
   "execution_count": 106,
   "id": "578b18dc",
   "metadata": {},
   "outputs": [],
   "source": [
    "#Create DataFrame"
   ]
  },
  {
   "cell_type": "code",
   "execution_count": 107,
   "id": "0e99bebf",
   "metadata": {},
   "outputs": [],
   "source": [
    "import pandas as pd"
   ]
  },
  {
   "cell_type": "code",
   "execution_count": 108,
   "id": "ffdb5983",
   "metadata": {},
   "outputs": [
    {
     "data": {
      "text/plain": [
       "<pyodbc.Cursor at 0x2b2761dbeb0>"
      ]
     },
     "execution_count": 108,
     "metadata": {},
     "output_type": "execute_result"
    }
   ],
   "source": [
    "crs.execute('SELECT * FROM TestTable')"
   ]
  },
  {
   "cell_type": "code",
   "execution_count": 109,
   "id": "eab7b25e",
   "metadata": {},
   "outputs": [],
   "source": [
    "result = crs.fetchall()"
   ]
  },
  {
   "cell_type": "code",
   "execution_count": 110,
   "id": "9dccd14c",
   "metadata": {},
   "outputs": [
    {
     "data": {
      "text/plain": [
       "[(1, 'Ahmet', 'Gultekin'),\n",
       " (2, 'Seda', 'Gultekin'),\n",
       " (3, 'Bruce', 'Lee'),\n",
       " (4, 'Tom', 'Cat'),\n",
       " (6, 'Owen', 'William'),\n",
       " (7, 'Stefan', 'Müller')]"
      ]
     },
     "execution_count": 110,
     "metadata": {},
     "output_type": "execute_result"
    }
   ],
   "source": [
    "result"
   ]
  },
  {
   "cell_type": "code",
   "execution_count": 111,
   "id": "25c72894",
   "metadata": {},
   "outputs": [],
   "source": [
    "df = pd.DataFrame(result)"
   ]
  },
  {
   "cell_type": "code",
   "execution_count": 113,
   "id": "ec888d9f",
   "metadata": {},
   "outputs": [
    {
     "data": {
      "text/html": [
       "<div>\n",
       "<style scoped>\n",
       "    .dataframe tbody tr th:only-of-type {\n",
       "        vertical-align: middle;\n",
       "    }\n",
       "\n",
       "    .dataframe tbody tr th {\n",
       "        vertical-align: top;\n",
       "    }\n",
       "\n",
       "    .dataframe thead th {\n",
       "        text-align: right;\n",
       "    }\n",
       "</style>\n",
       "<table border=\"1\" class=\"dataframe\">\n",
       "  <thead>\n",
       "    <tr style=\"text-align: right;\">\n",
       "      <th></th>\n",
       "      <th>0</th>\n",
       "    </tr>\n",
       "  </thead>\n",
       "  <tbody>\n",
       "    <tr>\n",
       "      <th>0</th>\n",
       "      <td>[1, Ahmet, Gultekin]</td>\n",
       "    </tr>\n",
       "    <tr>\n",
       "      <th>1</th>\n",
       "      <td>[2, Seda, Gultekin]</td>\n",
       "    </tr>\n",
       "    <tr>\n",
       "      <th>2</th>\n",
       "      <td>[3, Bruce, Lee]</td>\n",
       "    </tr>\n",
       "    <tr>\n",
       "      <th>3</th>\n",
       "      <td>[4, Tom, Cat]</td>\n",
       "    </tr>\n",
       "    <tr>\n",
       "      <th>4</th>\n",
       "      <td>[6, Owen, William]</td>\n",
       "    </tr>\n",
       "    <tr>\n",
       "      <th>5</th>\n",
       "      <td>[7, Stefan, Müller]</td>\n",
       "    </tr>\n",
       "  </tbody>\n",
       "</table>\n",
       "</div>"
      ],
      "text/plain": [
       "                      0\n",
       "0  [1, Ahmet, Gultekin]\n",
       "1   [2, Seda, Gultekin]\n",
       "2       [3, Bruce, Lee]\n",
       "3         [4, Tom, Cat]\n",
       "4    [6, Owen, William]\n",
       "5   [7, Stefan, Müller]"
      ]
     },
     "execution_count": 113,
     "metadata": {},
     "output_type": "execute_result"
    }
   ],
   "source": [
    "df"
   ]
  },
  {
   "cell_type": "code",
   "execution_count": 114,
   "id": "e67b5925",
   "metadata": {},
   "outputs": [],
   "source": [
    "a = []"
   ]
  },
  {
   "cell_type": "code",
   "execution_count": 115,
   "id": "392183d6",
   "metadata": {},
   "outputs": [],
   "source": [
    "for result in result:\n",
    "    result = list(result)\n",
    "    a.append(result)"
   ]
  },
  {
   "cell_type": "code",
   "execution_count": 116,
   "id": "50cdc2dd",
   "metadata": {},
   "outputs": [
    {
     "data": {
      "text/plain": [
       "[[1, 'Ahmet', 'Gultekin'],\n",
       " [2, 'Seda', 'Gultekin'],\n",
       " [3, 'Bruce', 'Lee'],\n",
       " [4, 'Tom', 'Cat'],\n",
       " [6, 'Owen', 'William'],\n",
       " [7, 'Stefan', 'Müller']]"
      ]
     },
     "execution_count": 116,
     "metadata": {},
     "output_type": "execute_result"
    }
   ],
   "source": [
    "a"
   ]
  },
  {
   "cell_type": "code",
   "execution_count": 117,
   "id": "9ad573e0",
   "metadata": {},
   "outputs": [
    {
     "data": {
      "text/html": [
       "<div>\n",
       "<style scoped>\n",
       "    .dataframe tbody tr th:only-of-type {\n",
       "        vertical-align: middle;\n",
       "    }\n",
       "\n",
       "    .dataframe tbody tr th {\n",
       "        vertical-align: top;\n",
       "    }\n",
       "\n",
       "    .dataframe thead th {\n",
       "        text-align: right;\n",
       "    }\n",
       "</style>\n",
       "<table border=\"1\" class=\"dataframe\">\n",
       "  <thead>\n",
       "    <tr style=\"text-align: right;\">\n",
       "      <th></th>\n",
       "      <th>ID</th>\n",
       "      <th>FirstName</th>\n",
       "      <th>LastName</th>\n",
       "    </tr>\n",
       "  </thead>\n",
       "  <tbody>\n",
       "    <tr>\n",
       "      <th>0</th>\n",
       "      <td>1</td>\n",
       "      <td>Ahmet</td>\n",
       "      <td>Gultekin</td>\n",
       "    </tr>\n",
       "    <tr>\n",
       "      <th>1</th>\n",
       "      <td>2</td>\n",
       "      <td>Seda</td>\n",
       "      <td>Gultekin</td>\n",
       "    </tr>\n",
       "    <tr>\n",
       "      <th>2</th>\n",
       "      <td>3</td>\n",
       "      <td>Bruce</td>\n",
       "      <td>Lee</td>\n",
       "    </tr>\n",
       "    <tr>\n",
       "      <th>3</th>\n",
       "      <td>4</td>\n",
       "      <td>Tom</td>\n",
       "      <td>Cat</td>\n",
       "    </tr>\n",
       "    <tr>\n",
       "      <th>4</th>\n",
       "      <td>6</td>\n",
       "      <td>Owen</td>\n",
       "      <td>William</td>\n",
       "    </tr>\n",
       "    <tr>\n",
       "      <th>5</th>\n",
       "      <td>7</td>\n",
       "      <td>Stefan</td>\n",
       "      <td>Müller</td>\n",
       "    </tr>\n",
       "  </tbody>\n",
       "</table>\n",
       "</div>"
      ],
      "text/plain": [
       "   ID FirstName  LastName\n",
       "0   1     Ahmet  Gultekin\n",
       "1   2      Seda  Gultekin\n",
       "2   3     Bruce       Lee\n",
       "3   4       Tom       Cat\n",
       "4   6      Owen   William\n",
       "5   7    Stefan    Müller"
      ]
     },
     "execution_count": 117,
     "metadata": {},
     "output_type": "execute_result"
    }
   ],
   "source": [
    "columns = ['ID','FirstName','LastName']\n",
    "df = pd.DataFrame(a,columns = columns)\n",
    "df"
   ]
  },
  {
   "cell_type": "code",
   "execution_count": 118,
   "id": "b165a220",
   "metadata": {},
   "outputs": [],
   "source": [
    "query = 'USE SampleRetail'"
   ]
  },
  {
   "cell_type": "code",
   "execution_count": 119,
   "id": "784727cb",
   "metadata": {},
   "outputs": [
    {
     "name": "stdout",
     "output_type": "stream",
     "text": [
      "Query Successful!\n"
     ]
    }
   ],
   "source": [
    "execute_query(conn, query)"
   ]
  },
  {
   "cell_type": "code",
   "execution_count": null,
   "id": "7a43220f",
   "metadata": {},
   "outputs": [],
   "source": []
  },
  {
   "cell_type": "code",
   "execution_count": null,
   "id": "762dfb5e",
   "metadata": {},
   "outputs": [],
   "source": []
  },
  {
   "cell_type": "code",
   "execution_count": null,
   "id": "943dee0f",
   "metadata": {},
   "outputs": [],
   "source": []
  }
 ],
 "metadata": {
  "kernelspec": {
   "display_name": "Python 3 (ipykernel)",
   "language": "python",
   "name": "python3"
  },
  "language_info": {
   "codemirror_mode": {
    "name": "ipython",
    "version": 3
   },
   "file_extension": ".py",
   "mimetype": "text/x-python",
   "name": "python",
   "nbconvert_exporter": "python",
   "pygments_lexer": "ipython3",
   "version": "3.9.7"
  }
 },
 "nbformat": 4,
 "nbformat_minor": 5
}
